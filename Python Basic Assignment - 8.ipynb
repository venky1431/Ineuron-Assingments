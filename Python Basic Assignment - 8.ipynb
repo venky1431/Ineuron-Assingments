{
 "cells": [
  {
   "cell_type": "markdown",
   "id": "48fd4544",
   "metadata": {},
   "source": [
    "## Assignment - 8\n",
    "\n",
    "### 1. Is the Python Standard Library included with PyInputPlus?\n",
    "    Ans: No, PyInputPlus is not a part of Python Standard Library, it needs to be installed explicitly using the command !pip install PyInputPlus\n",
    "\n",
    "### 2. Why is PyInputPlus commonly imported with import pyinputplus as pypi?\n",
    "    Ans: You can import the module with import pyinputplus as pypi so that you can enter a shorter name when calling the module's functions.\n",
    "\n",
    "### 3. How do you distinguish between inputInt() and inputFloat()?\n",
    "    Ans: inputInt() function Accepts an integer value. This also takes additional parameters min, max, greaterThan and lessThan for bounds. And it always returns an int.\n",
    "\n",
    "    Whereas inputFloat() function Accepts a floating-point numeric value. This also takes additional min, max, greaterThan and lessThan parameters and always returns a float.\n",
    "\n",
    "### 4. Using PyInputPlus, how do you ensure that the user enters a whole number between 0 and 99?\n",
    "    Ans: PyInputPlus module provides a function called as inputInt() which only returns only integer values. inorder to restrict the input between 0 and 99, i'll use parameters like min & max to ensure that user enters the values between the defined range only.\n",
    "\n",
    "   \n"
   ]
  },
  {
   "cell_type": "code",
   "execution_count": 2,
   "id": "685f87fe",
   "metadata": {},
   "outputs": [
    {
     "name": "stdout",
     "output_type": "stream",
     "text": [
      "Collecting PyinputPlus\n",
      "  Downloading PyInputPlus-0.2.12.tar.gz (20 kB)\n",
      "  Installing build dependencies: started\n",
      "  Installing build dependencies: finished with status 'done'\n",
      "  Getting requirements to build wheel: started\n",
      "  Getting requirements to build wheel: finished with status 'done'\n",
      "    Preparing wheel metadata: started\n",
      "    Preparing wheel metadata: finished with status 'done'\n",
      "Collecting stdiomask>=0.0.3\n",
      "  Downloading stdiomask-0.0.6.tar.gz (3.6 kB)\n",
      "  Installing build dependencies: started\n",
      "  Installing build dependencies: finished with status 'done'\n",
      "  Getting requirements to build wheel: started\n",
      "  Getting requirements to build wheel: finished with status 'done'\n",
      "    Preparing wheel metadata: started\n",
      "    Preparing wheel metadata: finished with status 'done'\n",
      "Collecting pysimplevalidate>=0.2.7\n",
      "  Downloading PySimpleValidate-0.2.12.tar.gz (22 kB)\n",
      "  Installing build dependencies: started\n",
      "  Installing build dependencies: finished with status 'done'\n",
      "  Getting requirements to build wheel: started\n",
      "  Getting requirements to build wheel: finished with status 'done'\n",
      "    Preparing wheel metadata: started\n",
      "    Preparing wheel metadata: finished with status 'done'\n",
      "Building wheels for collected packages: PyinputPlus, pysimplevalidate, stdiomask\n",
      "  Building wheel for PyinputPlus (PEP 517): started\n",
      "  Building wheel for PyinputPlus (PEP 517): finished with status 'done'\n",
      "  Created wheel for PyinputPlus: filename=PyInputPlus-0.2.12-py3-none-any.whl size=11315 sha256=88e2371a8e593bec2dc300696caf4aa8530044585a8fb5f4f9301dbda300493d\n",
      "  Stored in directory: c:\\users\\priya\\appdata\\local\\pip\\cache\\wheels\\b4\\6e\\2f\\8a852732646cabec36c3fe8fc060ec5bea1c1be711432c47f7\n",
      "  Building wheel for pysimplevalidate (PEP 517): started\n",
      "  Building wheel for pysimplevalidate (PEP 517): finished with status 'done'\n",
      "  Created wheel for pysimplevalidate: filename=PySimpleValidate-0.2.12-py3-none-any.whl size=16193 sha256=8c5ced689d815a0da8c3e549fb7629e4954748e4dc0a2149805e40324f7780bb\n",
      "  Stored in directory: c:\\users\\priya\\appdata\\local\\pip\\cache\\wheels\\b1\\44\\4a\\043a4f4c4512c7cdfb0c2b8408b18b0de5fd45cac57f5dfa02\n",
      "  Building wheel for stdiomask (PEP 517): started\n",
      "  Building wheel for stdiomask (PEP 517): finished with status 'done'\n",
      "  Created wheel for stdiomask: filename=stdiomask-0.0.6-py3-none-any.whl size=3321 sha256=5573203cd6a5d381682494124442ee11f952d90d3d9ebb9efef56d63a93d989e\n",
      "  Stored in directory: c:\\users\\priya\\appdata\\local\\pip\\cache\\wheels\\1d\\aa\\47\\f41f117d22c5de82e95d9342f44da578c80610739a2d5ebec4\n",
      "Successfully built PyinputPlus pysimplevalidate stdiomask\n",
      "Installing collected packages: stdiomask, pysimplevalidate, PyinputPlus\n",
      "Successfully installed PyinputPlus-0.2.12 pysimplevalidate-0.2.12 stdiomask-0.0.6\n"
     ]
    }
   ],
   "source": [
    "!pip install PyinputPlus "
   ]
  },
  {
   "cell_type": "code",
   "execution_count": 3,
   "id": "09955ec5",
   "metadata": {},
   "outputs": [
    {
     "name": "stdout",
     "output_type": "stream",
     "text": [
      "Enter a number: 602\n",
      "Number must be at maximum 100.\n",
      "Enter a number: 91\n",
      "91\n"
     ]
    }
   ],
   "source": [
    "import pyinputplus as pyip\n",
    "wholenumber = pyip.inputInt(prompt='Enter a number: ', min=0, max=100)\n",
    "print(wholenumber)\n"
   ]
  },
  {
   "cell_type": "markdown",
   "id": "45bc4837",
   "metadata": {},
   "source": [
    "### 5. What is transferred to the keyword arguments allowRegexes and blockRegexes?\n",
    "    Ans: we can use allowRegexes and blockRegexes keyword arguments to take list of regular expression strings to determine what the pyinputplus function will reject or accept valid input.\n",
    "\n",
    "### 6. If a blank input is entered three times, what does inputStr(limit=3) do?\n",
    "    Ans: The statement inputStr(limit=3) will throw two exceptions ValidationException and RetryLimitException. The first exception is thrown because blank values are not allowed by inputStr() function by default. it we want to consider blank values as valid input, we have to set blank=True.\n",
    "    \n",
    "    The second exception is occured because we have reached the max limit we have specified by using limit parameter. inorder to avoid this exception we can use default parameter to return a default value when max limit is reached.\n",
    "\n",
    "### 7. If blank input is entered three times, what does inputStr(limit=3, default='hello') do?\n",
    "    Ans: Since the default parameter is set to hello. after blank input is entered three times instead of raising RetryLimitException exception. the function will return hello as response to the calling function."
   ]
  }
 ],
 "metadata": {
  "kernelspec": {
   "display_name": "Python 3 (ipykernel)",
   "language": "python",
   "name": "python3"
  },
  "language_info": {
   "codemirror_mode": {
    "name": "ipython",
    "version": 3
   },
   "file_extension": ".py",
   "mimetype": "text/x-python",
   "name": "python",
   "nbconvert_exporter": "python",
   "pygments_lexer": "ipython3",
   "version": "3.9.7"
  }
 },
 "nbformat": 4,
 "nbformat_minor": 5
}
