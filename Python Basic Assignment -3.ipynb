{
 "cells": [
  {
   "cell_type": "markdown",
   "id": "d6e4d893",
   "metadata": {},
   "source": [
    "## Assignment - 3"
   ]
  },
  {
   "cell_type": "markdown",
   "id": "3e12efee",
   "metadata": {},
   "source": [
    " ### Why are functions advantageous to have in your programs?\n",
    "\n",
    "Ans: Functions reduce the need for duplicate code. This makes programs shorter, easier to read, and easier to update."
   ]
  },
  {
   "cell_type": "markdown",
   "id": "b02479ef",
   "metadata": {},
   "source": [
    " ### When does the code in a function run: when it's specified or when it's called?\n",
    "\n",
    "Ans: The code in a function executes when the function is called, not when the function is defined."
   ]
  },
  {
   "cell_type": "markdown",
   "id": "6112cb49",
   "metadata": {},
   "source": [
    "###  What statement creates a function?\n",
    "\n",
    "Ans: def functionName() creates a function"
   ]
  },
  {
   "cell_type": "markdown",
   "id": "c04663f7",
   "metadata": {},
   "source": [
    " ### What is the difference between a function and a function call?\n",
    "\n",
    "Ans: Function : is a block of code that does a particular operation and returns a result. It usually accepts inputs as \n",
    "parameters and returns a result. The parameters are not mandatory.\n",
    "\n",
    "     Function call : is the code used to pass control to a function."
   ]
  },
  {
   "cell_type": "markdown",
   "id": "ba9a9cb4",
   "metadata": {},
   "source": [
    " ### How many global scopes are there in a Python program? How many local scopes?\n",
    "\n",
    "Ans: There is one global scope, and a local scope is created whenever a function is called."
   ]
  },
  {
   "cell_type": "markdown",
   "id": "f20533c2",
   "metadata": {},
   "source": [
    "### What happens to variables in a local scope when the function call returns?\n",
    "\n",
    "ANs: When a function returns, the local scope is destroyed, and all the variables in it are forgotten. we will not be able to access the out side the function."
   ]
  },
  {
   "cell_type": "markdown",
   "id": "1e6f46d0",
   "metadata": {},
   "source": [
    " ### What is the concept of a return value? Is it possible to have a return value in an expression?\n",
    "\n",
    "Ans: A return value is the value that a function calls to evaluate. A return value can be used as a\n",
    "part of an expression, Like any value."
   ]
  },
  {
   "cell_type": "markdown",
   "id": "75cc2186",
   "metadata": {},
   "source": [
    "### If a function does not have a return statement, what is the return value of a call to that function?\n",
    "\n",
    "Ans: If there is no return statement for a function, its return value is None."
   ]
  },
  {
   "cell_type": "markdown",
   "id": "e7361a33",
   "metadata": {},
   "source": [
    "### How do you make a function variable refer to the global variable?\n",
    "\n",
    "Ans: By representing a variable by global keywaord in the body of a function. For e.g. : global a"
   ]
  },
  {
   "cell_type": "markdown",
   "id": "17d374a8",
   "metadata": {},
   "source": [
    " ### What is the data type of None?\n",
    "\n",
    "Ans: the data type of None is NoneType."
   ]
  },
  {
   "cell_type": "markdown",
   "id": "f8a4302c",
   "metadata": {},
   "source": [
    " ### What does the sentence import areallyourpetsnamederic do?\n",
    "\n",
    "Ans: areallyourpetsnamederic ia not a python module. Importing this module will throughs ModuleNotFoundError exception"
   ]
  },
  {
   "cell_type": "code",
   "execution_count": 2,
   "id": "6f52c4fd",
   "metadata": {},
   "outputs": [
    {
     "ename": "ModuleNotFoundError",
     "evalue": "No module named 'areallyourpetsnamederic'",
     "output_type": "error",
     "traceback": [
      "\u001b[1;31m---------------------------------------------------------------------------\u001b[0m",
      "\u001b[1;31mModuleNotFoundError\u001b[0m                       Traceback (most recent call last)",
      "\u001b[1;32m~\\AppData\\Local\\Temp/ipykernel_14128/51184242.py\u001b[0m in \u001b[0;36m<module>\u001b[1;34m\u001b[0m\n\u001b[1;32m----> 1\u001b[1;33m \u001b[1;32mimport\u001b[0m \u001b[0mareallyourpetsnamederic\u001b[0m\u001b[1;33m\u001b[0m\u001b[1;33m\u001b[0m\u001b[0m\n\u001b[0m",
      "\u001b[1;31mModuleNotFoundError\u001b[0m: No module named 'areallyourpetsnamederic'"
     ]
    }
   ],
   "source": [
    "import areallyourpetsnamederic"
   ]
  },
  {
   "cell_type": "markdown",
   "id": "882a02c3",
   "metadata": {},
   "source": [
    " ### If you had a bacon() feature in a spam module, what would you call it after importing spam?\n",
    "\n",
    "Ans: This function can be called with spam.bacon(). like below\n",
    "    import spam\n",
    "    spam.bacon()"
   ]
  },
  {
   "cell_type": "markdown",
   "id": "5e415ab6",
   "metadata": {},
   "source": [
    "### What can you do to save a programme from crashing if it encounters an error?\n",
    "\n",
    "Ans: we can write lines of code in try block. This will not crash the programme. And in except block we can catch the \n",
    "exception"
   ]
  },
  {
   "cell_type": "markdown",
   "id": "a54ee480",
   "metadata": {},
   "source": [
    " ### What is the purpose of the try clause? What is the purpose of the except clause?\n",
    "\n",
    "Ans: Try : The code that could potentially cause an error goes in the try clause.\n",
    "     except : The code that executes if an error happens goes in the except clause, like print statements about exceptions,\n",
    "        loggin statements."
   ]
  }
 ],
 "metadata": {
  "kernelspec": {
   "display_name": "Python 3 (ipykernel)",
   "language": "python",
   "name": "python3"
  },
  "language_info": {
   "codemirror_mode": {
    "name": "ipython",
    "version": 3
   },
   "file_extension": ".py",
   "mimetype": "text/x-python",
   "name": "python",
   "nbconvert_exporter": "python",
   "pygments_lexer": "ipython3",
   "version": "3.9.7"
  }
 },
 "nbformat": 4,
 "nbformat_minor": 5
}
