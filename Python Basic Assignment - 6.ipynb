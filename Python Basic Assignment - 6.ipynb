{
 "cells": [
  {
   "cell_type": "markdown",
   "id": "f2c76c14",
   "metadata": {},
   "source": [
    "## Assignment - 6"
   ]
  },
  {
   "cell_type": "markdown",
   "id": "1dd08d20",
   "metadata": {},
   "source": [
    "### 1.What are Escape characters ? and how do you use them ?\n",
    "    Ans: Escape characters represent characters in string values that would otherwise be difficult or impossible to type into code. we can use the backslash character to escape a single character or symbol\n",
    "    example: \\t, \\n\n",
    "\n",
    "### 2.What do the escape characters n and t stand for ?\n",
    "    Ans: \\n is a newline, \\t is a tab\n",
    "\n",
    "### 3.What is the way to include backslash character in a string?\n",
    "    Ans: The \\\\ escape character will represent the backslash character in a string\n",
    "\n",
    "### 4.The string \"Howl's Moving Castle\" is a correct value. Why isn't the single quote character in the word Howl's not escaped a problem ?\n",
    "    Ans: The string \"Howl's Moving Castle\" escaped the problem because it is wrapped inside double quotes. If it's wrapped inside single quotes then we have to use escape character \\' to show single quote in the final output\n",
    "    e.g. 'Howl\\'s Moving Castle' -> 'Howl's Moving Castle'\n",
    "\n",
    "### 5.How do you write a string of newlines if you don't want to use the n character?\n",
    "    Ans: Multiline string allow you to use newlines in string without the \\n escape character"
   ]
  },
  {
   "cell_type": "code",
   "execution_count": 2,
   "id": "468a46ec",
   "metadata": {},
   "outputs": [
    {
     "name": "stdout",
     "output_type": "stream",
     "text": [
      "iNeuron is the best place\n",
      "for data science enthusiasts like me\n"
     ]
    }
   ],
   "source": [
    "# Example:\n",
    "a = '''iNeuron is the best place\n",
    "for data science enthusiasts like me'''\n",
    "print(a)"
   ]
  },
  {
   "cell_type": "markdown",
   "id": "f774ff73",
   "metadata": {},
   "source": [
    "### 6.What are the values of the given expressions ?\n",
    "    'Hello, world!'[1]\n",
    "    'Hello, world!'[0:5]\n",
    "    'Hello, world!'[:5]\n",
    "    'Hello, world!'[3:]"
   ]
  },
  {
   "cell_type": "code",
   "execution_count": 5,
   "id": "d9f2cdd9",
   "metadata": {},
   "outputs": [
    {
     "data": {
      "text/plain": [
       "'e'"
      ]
     },
     "execution_count": 5,
     "metadata": {},
     "output_type": "execute_result"
    }
   ],
   "source": [
    "'Hello, world!'[1]"
   ]
  },
  {
   "cell_type": "code",
   "execution_count": 6,
   "id": "63fe878a",
   "metadata": {},
   "outputs": [
    {
     "data": {
      "text/plain": [
       "'Hello'"
      ]
     },
     "execution_count": 6,
     "metadata": {},
     "output_type": "execute_result"
    }
   ],
   "source": [
    "'Hello, world!'[0:5]"
   ]
  },
  {
   "cell_type": "code",
   "execution_count": 7,
   "id": "4f346a66",
   "metadata": {},
   "outputs": [
    {
     "data": {
      "text/plain": [
       "'Hello'"
      ]
     },
     "execution_count": 7,
     "metadata": {},
     "output_type": "execute_result"
    }
   ],
   "source": [
    "'Hello, world!'[:5]"
   ]
  },
  {
   "cell_type": "code",
   "execution_count": 8,
   "id": "8f4f2f17",
   "metadata": {},
   "outputs": [
    {
     "data": {
      "text/plain": [
       "'lo, world!'"
      ]
     },
     "execution_count": 8,
     "metadata": {},
     "output_type": "execute_result"
    }
   ],
   "source": [
    "'Hello, world!'[3:]"
   ]
  },
  {
   "cell_type": "markdown",
   "id": "1e92c9f1",
   "metadata": {},
   "source": [
    "### 7.What are the values of the following expressions ?\n",
    "    'Hello'.upper()\n",
    "    'Hello'.upper().isupper()\n",
    "    'Hello'.upper().lower()\n"
   ]
  },
  {
   "cell_type": "code",
   "execution_count": 9,
   "id": "46a4be81",
   "metadata": {},
   "outputs": [
    {
     "data": {
      "text/plain": [
       "'HELLO'"
      ]
     },
     "execution_count": 9,
     "metadata": {},
     "output_type": "execute_result"
    }
   ],
   "source": [
    "'Hello'.upper()"
   ]
  },
  {
   "cell_type": "code",
   "execution_count": 10,
   "id": "8cd06dbc",
   "metadata": {},
   "outputs": [
    {
     "data": {
      "text/plain": [
       "True"
      ]
     },
     "execution_count": 10,
     "metadata": {},
     "output_type": "execute_result"
    }
   ],
   "source": [
    "'Hello'.upper().isupper()"
   ]
  },
  {
   "cell_type": "code",
   "execution_count": 11,
   "id": "133e25f1",
   "metadata": {},
   "outputs": [
    {
     "data": {
      "text/plain": [
       "'hello'"
      ]
     },
     "execution_count": 11,
     "metadata": {},
     "output_type": "execute_result"
    }
   ],
   "source": [
    "'Hello'.upper().lower()"
   ]
  },
  {
   "cell_type": "markdown",
   "id": "3a44d8be",
   "metadata": {},
   "source": [
    "### 8.What are the values of the following expressions ?\n",
    "    'Remember, remember, the fifith of July.'.split()\n",
    "    '-'.join('There can only one'.split())\n",
    "    \n",
    "    Ans: The values for the given expressions are:"
   ]
  },
  {
   "cell_type": "code",
   "execution_count": 12,
   "id": "4c7c6d16",
   "metadata": {},
   "outputs": [
    {
     "data": {
      "text/plain": [
       "['Remember,', 'remember,', 'the', 'fifith', 'of', 'July.']"
      ]
     },
     "execution_count": 12,
     "metadata": {},
     "output_type": "execute_result"
    }
   ],
   "source": [
    "'Remember, remember, the fifith of July.'.split()"
   ]
  },
  {
   "cell_type": "code",
   "execution_count": 13,
   "id": "2de96d6e",
   "metadata": {},
   "outputs": [
    {
     "data": {
      "text/plain": [
       "'There-can-only-one'"
      ]
     },
     "execution_count": 13,
     "metadata": {},
     "output_type": "execute_result"
    }
   ],
   "source": [
    "'-'.join('There can only one'.split())"
   ]
  },
  {
   "cell_type": "markdown",
   "id": "6d41eb87",
   "metadata": {},
   "source": [
    "### 9.What are the methods for right-justifying, left-justifying and centering a string ?\n",
    "    Ans: The rjust(),ljust(),center() string methods, respectively\n",
    "\n"
   ]
  },
  {
   "cell_type": "code",
   "execution_count": 19,
   "id": "9d272e02",
   "metadata": {},
   "outputs": [
    {
     "name": "stdout",
     "output_type": "stream",
     "text": [
      "hi, you know        banana        is my favorite fruit.\n"
     ]
    }
   ],
   "source": [
    "txt = \"banana\"\n",
    "x = txt.center(20)\n",
    "print('hi, you know', x, \"is my favorite fruit.\")"
   ]
  },
  {
   "cell_type": "code",
   "execution_count": 20,
   "id": "ef8e0344",
   "metadata": {},
   "outputs": [
    {
     "name": "stdout",
     "output_type": "stream",
     "text": [
      "hi, you know banana               is my favorite fruit.\n"
     ]
    }
   ],
   "source": [
    "txt = \"banana\"\n",
    "x = txt.ljust(20)\n",
    "print('hi, you know', x, \"is my favorite fruit.\")"
   ]
  },
  {
   "cell_type": "code",
   "execution_count": 21,
   "id": "c011db71",
   "metadata": {},
   "outputs": [
    {
     "name": "stdout",
     "output_type": "stream",
     "text": [
      "hi, you know               banana is my favorite fruit.\n"
     ]
    }
   ],
   "source": [
    "txt = \"banana\"\n",
    "x = txt.rjust(20)\n",
    "print('hi, you know', x, \"is my favorite fruit.\")"
   ]
  },
  {
   "cell_type": "markdown",
   "id": "35eeda39",
   "metadata": {},
   "source": [
    "### 10.What is the best way to remove whitespace characters from the start or end ?\n",
    "    Ans: The lstrip() and rstrip() methods remove whitesapce characters from the left and right ends of a string respectively"
   ]
  },
  {
   "cell_type": "code",
   "execution_count": 14,
   "id": "b7f10619",
   "metadata": {},
   "outputs": [
    {
     "name": "stdout",
     "output_type": "stream",
     "text": [
      "of all fruits banana      is my favorite\n"
     ]
    }
   ],
   "source": [
    "txt = \"     banana     \"\n",
    "x = txt.lstrip()\n",
    "print(\"of all fruits\", x, \"is my favorite\")"
   ]
  },
  {
   "cell_type": "code",
   "execution_count": 15,
   "id": "e889f714",
   "metadata": {},
   "outputs": [
    {
     "name": "stdout",
     "output_type": "stream",
     "text": [
      "of all fruits      banana is my favorite\n"
     ]
    }
   ],
   "source": [
    "txt = \"     banana     \"\n",
    "x = txt.rstrip()\n",
    "print(\"of all fruits\", x, \"is my favorite\")"
   ]
  },
  {
   "cell_type": "code",
   "execution_count": null,
   "id": "59242881",
   "metadata": {},
   "outputs": [],
   "source": [
    "txt = \"     banana     \"\n",
    "\n",
    "x = txt.lstrip()\n",
    "\n",
    "print(\"of all fruits\", x, \"is my favorite\")"
   ]
  }
 ],
 "metadata": {
  "kernelspec": {
   "display_name": "Python 3 (ipykernel)",
   "language": "python",
   "name": "python3"
  },
  "language_info": {
   "codemirror_mode": {
    "name": "ipython",
    "version": 3
   },
   "file_extension": ".py",
   "mimetype": "text/x-python",
   "name": "python",
   "nbconvert_exporter": "python",
   "pygments_lexer": "ipython3",
   "version": "3.9.7"
  }
 },
 "nbformat": 4,
 "nbformat_minor": 5
}
